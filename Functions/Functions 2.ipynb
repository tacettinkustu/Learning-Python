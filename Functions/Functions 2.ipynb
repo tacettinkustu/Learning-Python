{
 "cells": [
  {
   "cell_type": "code",
   "execution_count": 1,
   "metadata": {},
   "outputs": [
    {
     "name": "stdout",
     "output_type": "stream",
     "text": [
      "10\n"
     ]
    },
    {
     "ename": "NameError",
     "evalue": "name 'a' is not defined",
     "output_type": "error",
     "traceback": [
      "\u001b[1;31m---------------------------------------------------------------------------\u001b[0m",
      "\u001b[1;31mNameError\u001b[0m                                 Traceback (most recent call last)",
      "\u001b[1;32m<ipython-input-1-69271c21e5a8>\u001b[0m in \u001b[0;36m<module>\u001b[1;34m\u001b[0m\n\u001b[0;32m      7\u001b[0m \u001b[1;33m\u001b[0m\u001b[0m\n\u001b[0;32m      8\u001b[0m \u001b[0mfonksiyon\u001b[0m\u001b[1;33m(\u001b[0m\u001b[1;33m)\u001b[0m\u001b[1;33m\u001b[0m\u001b[1;33m\u001b[0m\u001b[0m\n\u001b[1;32m----> 9\u001b[1;33m \u001b[0mprint\u001b[0m\u001b[1;33m(\u001b[0m\u001b[0ma\u001b[0m\u001b[1;33m)\u001b[0m\u001b[1;33m\u001b[0m\u001b[1;33m\u001b[0m\u001b[0m\n\u001b[0m",
      "\u001b[1;31mNameError\u001b[0m: name 'a' is not defined"
     ]
    }
   ],
   "source": [
    "# Global and Local scopes\n",
    "\n",
    "def fonksiyon():\n",
    "    a = 10 # Yerel isim alanında bir değişken\n",
    "    print(a)\n",
    " \n",
    "    \n",
    "fonksiyon() \n",
    "print(a)"
   ]
  },
  {
   "cell_type": "code",
   "execution_count": 2,
   "metadata": {},
   "outputs": [
    {
     "name": "stdout",
     "output_type": "stream",
     "text": [
      "5\n"
     ]
    }
   ],
   "source": [
    "a = 5 \n",
    " \n",
    "def fonksiyon():\n",
    "    print(a)\n",
    "    \n",
    "fonksiyon()"
   ]
  },
  {
   "cell_type": "code",
   "execution_count": 3,
   "metadata": {},
   "outputs": [
    {
     "ename": "NameError",
     "evalue": "name 's' is not defined",
     "output_type": "error",
     "traceback": [
      "\u001b[1;31m---------------------------------------------------------------------------\u001b[0m",
      "\u001b[1;31mNameError\u001b[0m                                 Traceback (most recent call last)",
      "\u001b[1;32m<ipython-input-3-03afbe78c48c>\u001b[0m in \u001b[0;36m<module>\u001b[1;34m\u001b[0m\n\u001b[0;32m      6\u001b[0m     \u001b[0mprint\u001b[0m\u001b[1;33m(\u001b[0m\u001b[0ms\u001b[0m\u001b[1;33m)\u001b[0m\u001b[1;33m\u001b[0m\u001b[1;33m\u001b[0m\u001b[0m\n\u001b[0;32m      7\u001b[0m \u001b[1;33m\u001b[0m\u001b[0m\n\u001b[1;32m----> 8\u001b[1;33m \u001b[0mfonksiyon\u001b[0m\u001b[1;33m(\u001b[0m\u001b[1;33m)\u001b[0m\u001b[1;33m\u001b[0m\u001b[1;33m\u001b[0m\u001b[0m\n\u001b[0m\u001b[0;32m      9\u001b[0m \u001b[0ms\u001b[0m \u001b[1;33m=\u001b[0m \u001b[1;34m\"Python\"\u001b[0m\u001b[1;33m\u001b[0m\u001b[1;33m\u001b[0m\u001b[0m\n",
      "\u001b[1;32m<ipython-input-3-03afbe78c48c>\u001b[0m in \u001b[0;36mfonksiyon\u001b[1;34m()\u001b[0m\n\u001b[0;32m      4\u001b[0m \u001b[1;36m5\u001b[0m\u001b[1;33m\u001b[0m\u001b[1;33m\u001b[0m\u001b[0m\n\u001b[0;32m      5\u001b[0m \u001b[1;32mdef\u001b[0m \u001b[0mfonksiyon\u001b[0m\u001b[1;33m(\u001b[0m\u001b[1;33m)\u001b[0m\u001b[1;33m:\u001b[0m\u001b[1;33m\u001b[0m\u001b[1;33m\u001b[0m\u001b[0m\n\u001b[1;32m----> 6\u001b[1;33m     \u001b[0mprint\u001b[0m\u001b[1;33m(\u001b[0m\u001b[0ms\u001b[0m\u001b[1;33m)\u001b[0m\u001b[1;33m\u001b[0m\u001b[1;33m\u001b[0m\u001b[0m\n\u001b[0m\u001b[0;32m      7\u001b[0m \u001b[1;33m\u001b[0m\u001b[0m\n\u001b[0;32m      8\u001b[0m \u001b[0mfonksiyon\u001b[0m\u001b[1;33m(\u001b[0m\u001b[1;33m)\u001b[0m\u001b[1;33m\u001b[0m\u001b[1;33m\u001b[0m\u001b[0m\n",
      "\u001b[1;31mNameError\u001b[0m: name 's' is not defined"
     ]
    }
   ],
   "source": [
    "\n",
    "2\n",
    "3\n",
    "4\n",
    "5\n",
    "def fonksiyon():\n",
    "    print(s)\n",
    " \n",
    "fonksiyon()\n",
    "s = \"Python\""
   ]
  },
  {
   "cell_type": "code",
   "execution_count": 4,
   "metadata": {},
   "outputs": [
    {
     "name": "stdout",
     "output_type": "stream",
     "text": [
      "2\n",
      "10\n"
     ]
    }
   ],
   "source": [
    "c = 10\n",
    "def fonksiyon():\n",
    "    c = 2 \n",
    "    print(c)\n",
    " \n",
    "fonksiyon()\n",
    "print(c)"
   ]
  },
  {
   "cell_type": "code",
   "execution_count": 5,
   "metadata": {},
   "outputs": [
    {
     "name": "stdout",
     "output_type": "stream",
     "text": [
      "4\n",
      "4\n"
     ]
    }
   ],
   "source": [
    "d = 10\n",
    " \n",
    "def fonksiyon():\n",
    "    global d\n",
    "    \n",
    "    d = 4\n",
    "    print(d)\n",
    "fonksiyon()\n",
    "print(d)"
   ]
  },
  {
   "cell_type": "code",
   "execution_count": 6,
   "metadata": {},
   "outputs": [
    {
     "name": "stdout",
     "output_type": "stream",
     "text": [
      "10\n",
      "10\n"
     ]
    }
   ],
   "source": [
    "if True:\n",
    "    t = 10\n",
    "    print(t)\n",
    " \n",
    "print(t)"
   ]
  },
  {
   "cell_type": "code",
   "execution_count": 7,
   "metadata": {},
   "outputs": [
    {
     "name": "stdout",
     "output_type": "stream",
     "text": [
      "[2, 4, 6, 8, 10]\n"
     ]
    }
   ],
   "source": [
    "#lambda expressions\n",
    "\n",
    "liste3 = [1,2,3,4,5]\n",
    "liste4 = [i * 2 for i in liste3] # List Comprehension\n",
    "print(liste4)"
   ]
  },
  {
   "cell_type": "code",
   "execution_count": 8,
   "metadata": {},
   "outputs": [
    {
     "name": "stdout",
     "output_type": "stream",
     "text": [
      "4\n"
     ]
    }
   ],
   "source": [
    "def ikiyleçarp(x):\n",
    "    return x * 2\n",
    "print(ikiyleçarp(2))"
   ]
  },
  {
   "cell_type": "code",
   "execution_count": 9,
   "metadata": {},
   "outputs": [
    {
     "data": {
      "text/plain": [
       "6"
      ]
     },
     "execution_count": 9,
     "metadata": {},
     "output_type": "execute_result"
    }
   ],
   "source": [
    "ikiyleçarp = lambda x : x * 2 \n",
    " \n",
    "ikiyleçarp(3)"
   ]
  },
  {
   "cell_type": "code",
   "execution_count": 10,
   "metadata": {},
   "outputs": [
    {
     "name": "stdout",
     "output_type": "stream",
     "text": [
      "12\n"
     ]
    }
   ],
   "source": [
    "def toplama(a,b,c):\n",
    "    return a + b + c\n",
    " \n",
    "print(toplama(3,4,5))"
   ]
  },
  {
   "cell_type": "code",
   "execution_count": 11,
   "metadata": {},
   "outputs": [
    {
     "name": "stdout",
     "output_type": "stream",
     "text": [
      "12\n"
     ]
    }
   ],
   "source": [
    "topla = lambda x,y,z : x + y + z\n",
    " \n",
    "print(topla(3,4,5))"
   ]
  },
  {
   "cell_type": "code",
   "execution_count": 12,
   "metadata": {},
   "outputs": [
    {
     "name": "stdout",
     "output_type": "stream",
     "text": [
      "amalmargorP nohtyP\n"
     ]
    }
   ],
   "source": [
    "def terscevir(s):\n",
    "    return s[::-1]\n",
    " \n",
    "print(terscevir(\"Python Programlama\"))"
   ]
  },
  {
   "cell_type": "code",
   "execution_count": 13,
   "metadata": {},
   "outputs": [
    {
     "name": "stdout",
     "output_type": "stream",
     "text": [
      "amalmargorP nohtyP\n"
     ]
    }
   ],
   "source": [
    "ters =  lambda s : s[::-1]\n",
    " \n",
    "print(ters(\"Python Programlama\"))"
   ]
  },
  {
   "cell_type": "code",
   "execution_count": 16,
   "metadata": {},
   "outputs": [
    {
     "data": {
      "text/plain": [
       "True"
      ]
     },
     "execution_count": 16,
     "metadata": {},
     "output_type": "execute_result"
    }
   ],
   "source": [
    "çifttek = lambda sayı :  sayı % 2 == 0 \n",
    " \n",
    "çifttek(34)\n",
    " \n"
   ]
  },
  {
   "cell_type": "code",
   "execution_count": 15,
   "metadata": {},
   "outputs": [
    {
     "data": {
      "text/plain": [
       "False"
      ]
     },
     "execution_count": 15,
     "metadata": {},
     "output_type": "execute_result"
    }
   ],
   "source": [
    "çifttek(13)"
   ]
  },
  {
   "cell_type": "code",
   "execution_count": null,
   "metadata": {},
   "outputs": [
    {
     "name": "stdout",
     "output_type": "stream",
     "text": [
      "****************\n",
      "Bir sayının asal olup olmadığını bulma\n",
      "\n",
      "Programdan çıkmak için 'q' ya basın.\n",
      "****************\n",
      "\n",
      "Sayı:34\n",
      "34 asal bir sayı değildir.\n",
      "Sayı:31\n",
      "31 asal bir sayıdır.\n"
     ]
    }
   ],
   "source": [
    "print(\"\"\"****************\n",
    "Bir sayının asal olup olmadığını bulma\n",
    "\n",
    "Programdan çıkmak için 'q' ya basın.\n",
    "****************\n",
    "\"\"\")\n",
    "def asal_mi(sayi):\n",
    "    for i in range(2,sayi):\n",
    "        if (sayi % i == 0 ):\n",
    "            return False\n",
    "    return True\n",
    "\n",
    "\n",
    "while True:\n",
    "    sayi = input(\"Sayı:\")\n",
    "    if (sayi == \"q\"):\n",
    "        print(\"Programdan Çıkılıyor...\")\n",
    "        break\n",
    "    sayi = int(sayi)\n",
    "    if (sayi == 1):\n",
    "        print(sayi, \"asal bir sayı değildir.\")\n",
    "    elif (sayi == 2):\n",
    "        print(sayi, \"asal bir sayıdır.\")\n",
    "    else:\n",
    "        if (asal_mi(sayi)):\n",
    "            print(sayi,\"asal bir sayıdır.\")\n",
    "        else:\n",
    "            print(sayi,\"asal bir sayı değildir.\")"
   ]
  },
  {
   "cell_type": "code",
   "execution_count": null,
   "metadata": {},
   "outputs": [],
   "source": [
    "print(\"\"\"****************\n",
    "Bir sayının bölenlerini bulma\n",
    "\n",
    "Programdan çıkmak için 'q' ya basın.\n",
    "****************\n",
    "\"\"\")\n",
    "\n",
    "def bolenleri_bul(sayi):\n",
    "    bolen_listesi = []\n",
    "    for i in range(1,sayi+1):\n",
    "        if (sayi % i == 0):\n",
    "            bolen_listesi.append(i)\n",
    "    return bolen_listesi\n",
    "\n",
    "while True:\n",
    "    sayi = input(\"Sayı:\")\n",
    "    if (sayi == \"q\"):\n",
    "        print(\"Programdan Çıkılıyor...\")\n",
    "        break\n",
    "    else:\n",
    "        sayi = int(sayi)\n",
    "        print(bolenleri_bul(sayi))"
   ]
  },
  {
   "cell_type": "code",
   "execution_count": null,
   "metadata": {},
   "outputs": [],
   "source": []
  }
 ],
 "metadata": {
  "kernelspec": {
   "display_name": "Python 3",
   "language": "python",
   "name": "python3"
  },
  "language_info": {
   "codemirror_mode": {
    "name": "ipython",
    "version": 3
   },
   "file_extension": ".py",
   "mimetype": "text/x-python",
   "name": "python",
   "nbconvert_exporter": "python",
   "pygments_lexer": "ipython3",
   "version": "3.8.3"
  }
 },
 "nbformat": 4,
 "nbformat_minor": 4
}
