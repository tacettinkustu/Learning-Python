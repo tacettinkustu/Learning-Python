{
 "cells": [
  {
   "cell_type": "code",
   "execution_count": 1,
   "metadata": {},
   "outputs": [
    {
     "name": "stdout",
     "output_type": "stream",
     "text": [
      "[1, 2, 3, 4, 5]\n"
     ]
    }
   ],
   "source": [
    "list1 = [1,2,3,4,5]\n",
    " \n",
    "list2 = list()\n",
    " \n",
    " \n",
    "for i in list1:\n",
    "    list2.append(i)\n",
    "    \n",
    "print(list2)"
   ]
  },
  {
   "cell_type": "code",
   "execution_count": 2,
   "metadata": {},
   "outputs": [
    {
     "name": "stdout",
     "output_type": "stream",
     "text": [
      "[1, 2, 3, 4, 5, 6, 7]\n"
     ]
    }
   ],
   "source": [
    "list1 = [1,2,3,4,5,6,7]\n",
    " \n",
    "list2 = [i for i in list1] # List Comprehension\n",
    " \n",
    "print(list2)"
   ]
  },
  {
   "cell_type": "code",
   "execution_count": 3,
   "metadata": {},
   "outputs": [
    {
     "name": "stdout",
     "output_type": "stream",
     "text": [
      "[2, 4, 6, 8, 10]\n"
     ]
    }
   ],
   "source": [
    "list1 = [1,2,3,4,5]\n",
    " \n",
    "list2 = [i*2 for i in list1] # List Comprehension\n",
    " \n",
    "print(list2)"
   ]
  },
  {
   "cell_type": "code",
   "execution_count": 4,
   "metadata": {},
   "outputs": [
    {
     "name": "stdout",
     "output_type": "stream",
     "text": [
      "[2, 12, 30]\n"
     ]
    }
   ],
   "source": [
    "list1 = [(1,2),(3,4),(5,6)]\n",
    " \n",
    "list2 = [i*j for (i,j) in list1] # List Comprehension\n",
    " \n",
    "print(list2)"
   ]
  },
  {
   "cell_type": "code",
   "execution_count": 5,
   "metadata": {},
   "outputs": [
    {
     "name": "stdout",
     "output_type": "stream",
     "text": [
      "['PPP', 'yyy', 'ttt', 'hhh', 'ooo', 'nnn']\n"
     ]
    }
   ],
   "source": [
    "s = \"Python\"  \n",
    " \n",
    "list1 = [i * 3 for i in s] # List Comprehension\n",
    " \n",
    "print(list1)"
   ]
  },
  {
   "cell_type": "code",
   "execution_count": 6,
   "metadata": {},
   "outputs": [
    {
     "name": "stdout",
     "output_type": "stream",
     "text": [
      "x: 1\n",
      "x: 2\n",
      "x: 3\n",
      "x: 4\n",
      "x: 5\n",
      "x: 6\n",
      "x: 7\n",
      "x: 8\n",
      "x: 9\n",
      "x: 10\n",
      "x: 11\n",
      "x: 12\n",
      "x: 13\n",
      "x: 14\n",
      "x: 15\n",
      "[1, 2, 3, 4, 5, 6, 7, 8, 9, 10, 11, 12, 13, 14, 15]\n"
     ]
    }
   ],
   "source": [
    "list1 = [[1,2,3],[4,5,6,7,8],[9,10,11,12,13,14,15]]\n",
    "list2 = list()\n",
    "for i in list1:\n",
    "    for x in i:\n",
    "        print(\"x:\",x)\n",
    "        list2.append(x)\n",
    "print(list2)"
   ]
  },
  {
   "cell_type": "code",
   "execution_count": 7,
   "metadata": {},
   "outputs": [
    {
     "name": "stdout",
     "output_type": "stream",
     "text": [
      "x: 1\n",
      "x: 2\n",
      "x: 3\n",
      "x: 4\n",
      "x: 5\n",
      "x: 6\n",
      "x: 7\n",
      "x: 8\n",
      "x: 9\n",
      "x: 10\n",
      "x: 11\n",
      "x: 12\n",
      "x: 13\n",
      "x: 14\n",
      "x: 15\n"
     ]
    },
    {
     "ename": "TypeError",
     "evalue": "'int' object is not iterable",
     "output_type": "error",
     "traceback": [
      "\u001b[1;31m---------------------------------------------------------------------------\u001b[0m",
      "\u001b[1;31mTypeError\u001b[0m                                 Traceback (most recent call last)",
      "\u001b[1;32m<ipython-input-7-d49bcb3c348a>\u001b[0m in \u001b[0;36m<module>\u001b[1;34m\u001b[0m\n\u001b[0;32m      2\u001b[0m \u001b[0mlist2\u001b[0m \u001b[1;33m=\u001b[0m \u001b[0mlist\u001b[0m\u001b[1;33m(\u001b[0m\u001b[1;33m)\u001b[0m\u001b[1;33m\u001b[0m\u001b[1;33m\u001b[0m\u001b[0m\n\u001b[0;32m      3\u001b[0m \u001b[1;32mfor\u001b[0m \u001b[0mi\u001b[0m \u001b[1;32min\u001b[0m \u001b[0mlist1\u001b[0m\u001b[1;33m:\u001b[0m\u001b[1;33m\u001b[0m\u001b[1;33m\u001b[0m\u001b[0m\n\u001b[1;32m----> 4\u001b[1;33m     \u001b[1;32mfor\u001b[0m \u001b[0mx\u001b[0m \u001b[1;32min\u001b[0m \u001b[0mi\u001b[0m\u001b[1;33m:\u001b[0m\u001b[1;33m\u001b[0m\u001b[1;33m\u001b[0m\u001b[0m\n\u001b[0m\u001b[0;32m      5\u001b[0m         \u001b[0mprint\u001b[0m\u001b[1;33m(\u001b[0m\u001b[1;34m\"x:\"\u001b[0m\u001b[1;33m,\u001b[0m\u001b[0mx\u001b[0m\u001b[1;33m)\u001b[0m\u001b[1;33m\u001b[0m\u001b[1;33m\u001b[0m\u001b[0m\n\u001b[0;32m      6\u001b[0m         \u001b[0mlist2\u001b[0m\u001b[1;33m.\u001b[0m\u001b[0mappend\u001b[0m\u001b[1;33m(\u001b[0m\u001b[0mx\u001b[0m\u001b[1;33m)\u001b[0m\u001b[1;33m\u001b[0m\u001b[1;33m\u001b[0m\u001b[0m\n",
      "\u001b[1;31mTypeError\u001b[0m: 'int' object is not iterable"
     ]
    }
   ],
   "source": [
    "list1 = [[1,2,3],[4,5,6,7,8],[9,10,11,12,13,14,15],16,17]\n",
    "list2 = list()\n",
    "for i in list1:\n",
    "    for x in i:\n",
    "        print(\"x:\",x)\n",
    "        list2.append(x)\n",
    "print(list2)"
   ]
  },
  {
   "cell_type": "code",
   "execution_count": 8,
   "metadata": {},
   "outputs": [
    {
     "name": "stdout",
     "output_type": "stream",
     "text": [
      "**********\n",
      "Sign in\n",
      "**********\n",
      "\n",
      "Kullanıcı Adı:dsf\n",
      "Parola:dfs\n",
      "Kullanıcı Adı ve Parola Hatalı...\n",
      "Giriş Hakkı:  2\n",
      "Kullanıcı Adı:sdfsf\n",
      "Parola:dfsf\n",
      "Kullanıcı Adı ve Parola Hatalı...\n",
      "Giriş Hakkı:  1\n",
      "Kullanıcı Adı:dfsdf\n",
      "Parola:sdfsdf\n",
      "Kullanıcı Adı ve Parola Hatalı...\n",
      "Giriş Hakkı:  0\n",
      "Giriş Hakkınız Bitti...\n"
     ]
    }
   ],
   "source": [
    "print(\"**********\\nSign in\\n**********\\n\")\n",
    "\n",
    "sys_kul_adı = \"mmurat\"\n",
    "\n",
    "sys_parola  = \"12345\"\n",
    "\n",
    "giriş_hakkı = 3\n",
    "\n",
    "while True:\n",
    "    kullanıcı_adı = input(\"Kullanıcı Adı:\")\n",
    "    parola = input(\"Parola:\")\n",
    "\n",
    "    if (kullanıcı_adı != sys_kul_adı and parola == sys_parola):\n",
    "        print(\"Kullanıcı Adı Hatalı...\")\n",
    "        giriş_hakkı -= 1\n",
    "        print(\"Giriş Hakkı: \", giriş_hakkı)\n",
    "    elif (kullanıcı_adı == sys_kul_adı and parola != sys_parola):\n",
    "        print(\"Parola Hatalı...\")\n",
    "        giriş_hakkı -= 1\n",
    "\n",
    "        print(\"Giriş Hakkı: \", giriş_hakkı)\n",
    "    elif (kullanıcı_adı != sys_kul_adı and parola != sys_parola):\n",
    "        print(\"Kullanıcı Adı ve Parola Hatalı...\")\n",
    "        giriş_hakkı -= 1\n",
    "        print(\"Giriş Hakkı: \", giriş_hakkı)\n",
    "\n",
    "    else:\n",
    "        print(\"Başarıyla Giriş Yaptınız...\")\n",
    "        break\n",
    "    if (giriş_hakkı == 0 ):\n",
    "\n",
    "        print(\"Giriş Hakkınız Bitti...\")\n",
    "        break"
   ]
  },
  {
   "cell_type": "code",
   "execution_count": 9,
   "metadata": {},
   "outputs": [
    {
     "name": "stdout",
     "output_type": "stream",
     "text": [
      "********************\n",
      "Welcome to ATM\n",
      "********************\n",
      "\n",
      "İşlemler:\n",
      "\n",
      "1. Bakiye Sorgulama\n",
      "2. Para Yatırma\n",
      "3. Para Çekme\n",
      "\n",
      "Programdan 'q' tuşu ile çıkabilirsiniz.\n",
      "\n",
      "\n",
      "İşlemi giriniz:3\n",
      "Çekmek istediğiniz tutar:900\n",
      "İşlemi giriniz:1\n",
      "Bakiyeniz 100 tldir\n",
      "İşlemi giriniz:q\n",
      "Yine bekleriz....\n"
     ]
    }
   ],
   "source": [
    "print(\"********************\\nWelcome to ATM\\n********************\")\n",
    "\n",
    "print(\"\"\"\n",
    "İşlemler:\n",
    "\n",
    "1. Bakiye Sorgulama\n",
    "2. Para Yatırma\n",
    "3. Para Çekme\n",
    "\n",
    "Programdan 'q' tuşu ile çıkabilirsiniz.\n",
    "\n",
    "\"\"\")\n",
    "\n",
    "bakiye  = 1000\n",
    "\n",
    "while True:\n",
    "    işlem = input(\"İşlemi giriniz:\")\n",
    "\n",
    "    if (işlem == \"q\"):\n",
    "        print(\"Yine bekleriz....\")\n",
    "        break\n",
    "    elif (işlem == \"1\"):\n",
    "        print(\"Bakiyeniz {} tldir\".format(bakiye))\n",
    "    elif (işlem == \"2\"):\n",
    "        miktar = int(input(\"Yatırmak istediğiniz tutar:\"))\n",
    "\n",
    "        bakiye += miktar\n",
    "    elif (işlem == \"3\"):\n",
    "        miktar = int(input(\"Çekmek istediğiniz tutar:\"))\n",
    "        if (bakiye - miktar < 0 ):\n",
    "            print(\"Bu kadar para çekemezsiniz...\")\n",
    "            print(\"Bakiyeniz {} tldir\".format(bakiye))\n",
    "            continue\n",
    "        bakiye -= miktar\n",
    "\n",
    "    else:\n",
    "        print(\"Lütfen geçerli bir işlem giriniz.\")"
   ]
  },
  {
   "cell_type": "code",
   "execution_count": null,
   "metadata": {},
   "outputs": [],
   "source": [
    "while True:\n",
    "    sayi =  input(\"Sayı:\")\n",
    "    if (sayi == \"q\"):\n",
    "        print(\"Programdan çıkılıyor...\")\n",
    "        break\n",
    "    sayi = int(sayi)\n",
    "\n",
    "    faktoriyel = 1\n",
    "    for i in range(2,sayi+1):\n",
    "        faktoriyel *= i\n",
    "\n",
    "    print(\"Faktoriyel:\",faktoriyel)"
   ]
  },
  {
   "cell_type": "code",
   "execution_count": null,
   "metadata": {},
   "outputs": [],
   "source": [
    "\"\"\"\n",
    "Fibonacci Serisi yeni bir sayıyı önceki iki sayının toplamı şeklinde oluşturur.\n",
    "\n",
    "1,1,2,3,5,8,13,21,34...............\n",
    "\"\"\"\n",
    "ilk_sayı = 1\n",
    "\n",
    "ikincisayi = 1\n",
    "\n",
    "fibonacci = [ilk_sayı,ikincisayi]\n",
    "for i in range(10):\n",
    "\n",
    "\n",
    "    ilk_sayı,ikincisayi = ikincisayi,ilk_sayı + ikincisayi\n",
    "\n",
    "    fibonacci.append(ikincisayi)\n",
    "\n",
    "print(fibonacci)"
   ]
  },
  {
   "cell_type": "code",
   "execution_count": null,
   "metadata": {},
   "outputs": [],
   "source": []
  }
 ],
 "metadata": {
  "kernelspec": {
   "display_name": "Python 3",
   "language": "python",
   "name": "python3"
  },
  "language_info": {
   "codemirror_mode": {
    "name": "ipython",
    "version": 3
   },
   "file_extension": ".py",
   "mimetype": "text/x-python",
   "name": "python",
   "nbconvert_exporter": "python",
   "pygments_lexer": "ipython3",
   "version": "3.8.3"
  }
 },
 "nbformat": 4,
 "nbformat_minor": 4
}
